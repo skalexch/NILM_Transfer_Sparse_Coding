{
 "cells": [
  {
   "cell_type": "markdown",
   "metadata": {},
   "source": [
    "**REFIT DATA** https://pure.strath.ac.uk/ws/portalfiles/portal/52873458/REFIT_Readme.txt"
   ]
  },
  {
   "cell_type": "code",
   "execution_count": null,
   "metadata": {
    "id": "54kFqM6TWH9z"
   },
   "outputs": [],
   "source": [
    "import pandas as pd\n",
    "import numpy as np\n",
    "import pickle\n",
    "import glob\n",
    "from itertools import combinations_with_replacement, combinations\n",
    "from scipy.stats import ks_2samp\n",
    "from scipy.special import rel_entr\n",
    "\n",
    "from sklearn.preprocessing import StandardScaler\n",
    "from sklearn.cluster import KMeans, DBSCAN, MeanShift, AffinityPropagation, SpectralClustering\n",
    "from sklearn.metrics import mean_squared_error\n",
    "\n",
    "from matplotlib import pyplot as plt\n",
    "import seaborn as sns"
   ]
  },
  {
   "cell_type": "code",
   "execution_count": null,
   "metadata": {
    "id": "jZKEzp-FNEaY"
   },
   "outputs": [],
   "source": [
    "new_path = \"/Processed_Data_CSV.7z\""
   ]
  },
  {
   "cell_type": "code",
   "execution_count": null,
   "metadata": {
    "id": "bX059pQlNloR"
   },
   "outputs": [],
   "source": [
    "#!pip install py7zr"
   ]
  },
  {
   "cell_type": "code",
   "execution_count": null,
   "metadata": {
    "id": "MUHv-L7mNlFv"
   },
   "outputs": [],
   "source": [
    "#import py7zr"
   ]
  },
  {
   "cell_type": "code",
   "execution_count": null,
   "metadata": {
    "id": "5ESs5QXmNLj0"
   },
   "outputs": [],
   "source": [
    "#with py7zr.SevenZipFile(new_path, mode='r') as z:\n",
    "#    z.extractall(path=\"/\")"
   ]
  },
  {
   "cell_type": "markdown",
   "metadata": {
    "id": "cp-VASA8tALl"
   },
   "source": [
    "## **Memory efficient way of importing data**\n",
    "\n",
    "Import by chunks, skip every few rows </br>"
   ]
  },
  {
   "cell_type": "code",
   "execution_count": null,
   "metadata": {
    "id": "egLqTxBq_jSo"
   },
   "outputs": [],
   "source": [
    "def hourly_data(df, time_column='Unix'):\n",
    "  \"\"\"\n",
    "  This function returns the first reading of each hour\n",
    "  \"\"\"\n",
    "  df_copy = df.copy()\n",
    "  df_copy.sort_values(by='Unix', ascending=True, inplace=True)\n",
    "  df_copy[time_column] = ONE_HOUR * (df_copy[time_column] // ONE_HOUR)\n",
    "  df_copy.drop_duplicates(subset=time_column, keep='first', inplace=True)\n",
    "  return df_copy"
   ]
  },
  {
   "cell_type": "code",
   "execution_count": null,
   "metadata": {
    "id": "SztShuiDWB82"
   },
   "outputs": [],
   "source": [
    "def filter_sort_date(df_list, date_col_name='date'):\n",
    "    \"\"\"\n",
    "    Filters dataframes of a list based on a roughly common date range\n",
    "    \"\"\"\n",
    "    dates = [(min(df[date_col_name].tolist()), max(df[date_col_name].tolist())) for df in df_list]\n",
    "    print([(i, d) for i, d in enumerate(dates)])\n",
    "    min_date, max_date = max([x[0] for x in dates]), min([x[-1] for x in dates])\n",
    "    #print(min_date, max_date)\n",
    "    filtered_df_list = [df.loc[(df[date_col_name] >= min_date) & (df[date_col_name] <= max_date)].reset_index().sort_values(date_col_name) for df in df_list]\n",
    "    return filtered_df_list"
   ]
  },
  {
   "cell_type": "code",
   "execution_count": null,
   "metadata": {
    "id": "qJbllXfQHah6"
   },
   "outputs": [],
   "source": [
    "real_col_names = {'1': ['Fridge', 'Chest Freezer', 'Upright Freezer', 'Tumble Dryer', 'Washing Machine', 'Dishwasher', 'Computer Site', 'Television Site', 'Electric Heater'], '2': ['Fridge-Freezer', 'Washing Machine', 'Dishwasher', 'Television', 'Microwave', 'Toaster', 'Hi-Fi', 'Kettle', 'Oven Extractor Fan'], '3': ['Toaster', 'Fridge-Freezer', 'Freezer', 'Tumble Dryer', 'Dishwasher', 'Washing Machine', 'Television', 'Microwave', 'Kettle'], '4': ['Fridge', 'Freezer', 'Fridge-Freezer', 'Washing Machine (1)', 'Washing Machine (2)', 'Computer Site', 'Television Site', 'Microwave', 'Kettle'], '5': ['Fridge-Freezer', 'Tumble Dryer 3', 'Washing Machine', 'Dishwasher', 'Computer Site', 'Television Site', 'Combination Microwave', 'Kettle', 'Toaster'], '6': ['Freezer (Utility Room)', 'Washing Machine', 'Dishwasher', 'MJY Computer', 'Television Site', 'Microwave', 'Kettle', 'Toaster', 'PGM Computer'], '7': ['Fridge', 'Freezer (Garage)', 'Freezer', 'Tumble Dryer', 'Washing Machine', 'Dishwasher', 'Television Site', 'Toaster', 'Kettle'], '8': ['Fridge', 'Freezer', 'Dryer', 'Washing Machine', 'Toaster', 'Computer', 'Television Site', 'Microwave', 'Kettle'], '9': ['Fridge-Freezer', 'Washer Dryer', 'Washing Machine', 'Dishwasher', 'Television Site', 'Microwave', 'Kettle', 'Hi-Fi', 'Electric Heater'], '10': ['Magimix (Blender)', 'Freezer', 'Chest Freezer (In Garage)', 'Fridge-Freezer', 'Washing Machine', 'Dishwasher', 'Television Site', 'Microwave', 'Kenwood KMix'], '11': ['Fridge', 'Fridge-Freezer', 'Washing Machine', 'Dishwasher', 'Computer Site', 'Microwave', 'Kettle', 'Router', 'Hi-Fi'], '12': ['Fridge-Freezer', 'Television Site(Lounge)', 'Microwave', 'Kettle', 'Toaster', 'Television Site(Bedroom)', 'Not Used', 'Not Used', 'Not Used'], '13': ['Television Site', 'Unknown', 'Washing Machine', 'Dishwasher', 'Tumble Dryer', 'Television Site', 'Computer Site', 'Microwave', 'Kettle'], '15': ['Fridge-Freezer', 'Tumble Dryer', 'Washing Machine', 'Dishwasher', 'Computer Site', 'Television Site', 'Microwave', 'Kettle ', 'Toaster'], '16': ['Fridge-Freezer (1)', 'Fridge-Freezer (2)', 'Electric Heater (1)', 'Electric Heater (2)', 'Washing Machine', 'Dishwasher', 'Computer Site', 'Television Site', 'Dehumidifier/Heater'], '17': ['Freezer (Garage)', 'Fridge-Freezer', 'Tumble Dryer (Garage)', 'Washing Machine', 'Computer Site', 'Television Site', 'Microwave', 'Kettle', 'Plug Site (Bedroom)'], '18': ['Fridge(garage)', 'Freezer(garage)', 'Fridge-Freezer', 'Washer Dryer(garage)', 'Washing Machine', 'Dishwasher', 'Desktop Computer', 'Television Site', 'Microwave'], '19': ['Fridge & Freezer', 'Washing Machine', 'Television Site', 'Microwave', 'Kettle', 'Toaster', 'Bread-maker', 'Lamp (80Watts)', 'Hi-Fi'], '20': ['Fridge', 'Freezer', 'Tumble Dryer', 'Washing Machine', 'Dishwasher', 'Computer Site', 'Television Site', 'Microwave', 'Kettle'], '21': ['Fridge-Freezer', 'Tumble Dryer', 'Washing Machine', 'Dishwasher', 'Food Mixer', 'Television', 'Kettle/Toaster', 'Vivarium', 'Pond Pump']}"
   ]
  },
  {
   "cell_type": "code",
   "execution_count": null,
   "metadata": {
    "id": "GzLJLi4eKZeu"
   },
   "outputs": [],
   "source": [
    "categories_refit = {'fridge': ['Fridge', 'Freezer', 'Chest Freezer', 'Upright Freezer', 'Fridge-Freezer', 'Freezer (Utility Room)', 'Freezer (Garage)', 'Chest Freezer (In Garage)', 'Fridge-Freezer (1)', 'Fridge-Freezer (2)', 'Fridge(garage)', 'Freezer(garage)', 'Fridge & Freezer'], 'washing_drying': ['Tumble Dryer', 'Washing Machine', 'Dishwasher', 'Washing Machine (1)', 'Washing Machine (2)', 'Dryer', 'Tumble Dryer (Garage)', 'Washer Dryer(garage)', 'Washer Dryer'], 'computer_tv': ['Computer Site', 'MJY Computer', 'PGM Computer,Computer', 'Desktop Computer'] + ['Television Site', 'Television', 'Television Site(Lounge)', 'Television Site(Bedroom)'], 'heating': ['Electric Heater', 'Microwave', 'Toaster', 'Kettle', 'Combination Microwave', 'Electric Heater', 'Electric Heater (2)', 'Dehumidifier/Heater', 'Kettle/Toaster'], 'other': ['Hi-Fi', 'Oven Extractor Fan', 'Magimix (Blender)', 'Kenwood KMix', 'Router', 'Plug Site (Bedroom)', 'Lamp (80Watts)', 'Bread-maker', 'Food Mixer', 'Vivarium', 'Pond Pump']}"
   ]
  },
  {
   "cell_type": "markdown",
   "metadata": {
    "id": "P1IGmLbmG9pA"
   },
   "source": [
    "**Filter to show the first reading of every hour**</br>\n",
    "**If I want to sum for each hour, I'll just sum later on. But that might be unfair for different readings**"
   ]
  },
  {
   "cell_type": "code",
   "execution_count": null,
   "metadata": {
    "id": "1yGMMzs2G9LL"
   },
   "outputs": [],
   "source": [
    "ONE_HOUR = 3600\n",
    "\n",
    "def harmonize_timestamps(df_list, time_column='Unix'):\n",
    "  \"\"\"\n",
    "  This function filters datasets to keep hours in common\n",
    "  \"\"\"\n",
    "  hourly_list = [df.set_index(time_column, drop=False).drop('index', axis=1) for df in df_list]\n",
    "  timestamps_list = [set(df[time_column].tolist()) for df in hourly_list]\n",
    "  common_hours = sorted(set.intersection(*timestamps_list))\n",
    "  valid_df_list = [df.loc[common_hours] for df in hourly_list]\n",
    "  del hourly_list\n",
    "\n",
    "  return valid_df_list"
   ]
  },
  {
   "cell_type": "code",
   "execution_count": null,
   "metadata": {
    "id": "6ln3OrPFJKXb"
   },
   "outputs": [],
   "source": [
    "def create_category_cols(df, categories, remove_other=False):\n",
    "  df_copy = df.copy()\n",
    "  cols = df_copy.columns.tolist()\n",
    "  cat_cols = {c: [col for col in cols if col in categories[c]] for c in categories.keys()}\n",
    "\n",
    "  for cat_col in cat_cols:\n",
    "    cols_in_df = [x for x in categories[cat_col] if x in cols]\n",
    "    if cols_in_df:\n",
    "      df_copy[cat_col] = df_copy[cols_in_df].sum(axis=1).values\n",
    "\n",
    "    df_copy.drop(cols_in_df, axis=1, inplace=True)\n",
    "\n",
    "  for col in df_copy.columns:\n",
    "    if col not in [\"Unix\", \"Aggregate\"] + list(categories.keys()):\n",
    "      try:\n",
    "        df_copy.drop(col, axis=1, inplace=True)\n",
    "      except KeyError:\n",
    "        continue\n",
    "\n",
    "  if remove_other and 'other' in df_copy.columns:\n",
    "    df_copy.drop('other', axis=1, inplace=True)\n",
    "  return df_copy"
   ]
  },
  {
   "cell_type": "code",
   "execution_count": null,
   "metadata": {
    "colab": {
     "base_uri": "https://localhost:8080/"
    },
    "id": "XgiwD7hbKDxS",
    "outputId": "7d8ce09f-254e-45ba-87b6-2db476ada267"
   },
   "outputs": [
    {
     "data": {
      "text/plain": [
       "['/content/drive/MyDrive/Energy_Data/House_3.csv',\n",
       " '/content/drive/MyDrive/Energy_Data/House_1.csv',\n",
       " '/content/drive/MyDrive/Energy_Data/House_10.csv',\n",
       " '/content/drive/MyDrive/Energy_Data/House_4.csv',\n",
       " '/content/drive/MyDrive/Energy_Data/House_11.csv',\n",
       " '/content/drive/MyDrive/Energy_Data/House_5.csv',\n",
       " '/content/drive/MyDrive/Energy_Data/House_12.csv',\n",
       " '/content/drive/MyDrive/Energy_Data/House_6.csv',\n",
       " '/content/drive/MyDrive/Energy_Data/House_13.csv',\n",
       " '/content/drive/MyDrive/Energy_Data/House_15.csv',\n",
       " '/content/drive/MyDrive/Energy_Data/House_7.csv',\n",
       " '/content/drive/MyDrive/Energy_Data/House_16.csv',\n",
       " '/content/drive/MyDrive/Energy_Data/House_8.csv',\n",
       " '/content/drive/MyDrive/Energy_Data/House_17.csv',\n",
       " '/content/drive/MyDrive/Energy_Data/House_9.csv',\n",
       " '/content/drive/MyDrive/Energy_Data/House_18.csv',\n",
       " '/content/drive/MyDrive/Energy_Data/House_19.csv',\n",
       " '/content/drive/MyDrive/Energy_Data/House_2.csv',\n",
       " '/content/drive/MyDrive/Energy_Data/House_20.csv',\n",
       " '/content/drive/MyDrive/Energy_Data/House_21.csv']"
      ]
     },
     "execution_count": 63,
     "metadata": {},
     "output_type": "execute_result"
    }
   ],
   "source": [
    "all_files_new"
   ]
  },
  {
   "cell_type": "markdown",
   "metadata": {},
   "source": [
    "**Import data**"
   ]
  },
  {
   "cell_type": "code",
   "execution_count": null,
   "metadata": {
    "colab": {
     "base_uri": "https://localhost:8080/"
    },
    "id": "7LO2DNIEO_uI",
    "outputId": "e4b83f3e-d712-4df2-9258-3d7df6b97ca5"
   },
   "outputs": [
    {
     "name": "stdout",
     "output_type": "stream",
     "text": [
      "dataframe size is  13132\n",
      "dataframe size is  13520\n",
      "dataframe size is  12949\n",
      "dataframe size is  13584\n",
      "dataframe size is  8417\n",
      "dataframe size is  14535\n",
      "dataframe size is  10985\n",
      "dataframe size is  11829\n",
      "dataframe size is  9436\n",
      "dataframe size is  12130\n",
      "dataframe size is  12929\n",
      "dataframe size is  11155\n",
      "dataframe size is  12003\n",
      "dataframe size is  10632\n",
      "dataframe size is  11581\n",
      "dataframe size is  10042\n",
      "dataframe size is  10644\n",
      "dataframe size is  11354\n",
      "dataframe size is  10412\n",
      "dataframe size is  10701\n"
     ]
    }
   ],
   "source": [
    "df_list_new = []\n",
    "house_nbs = []\n",
    "all_files_new = glob.glob(\"/content/drive/MyDrive/Energy_Data\" + \"/*.csv\")\n",
    "cols__ = [\"Unix\", \"Aggregate\", \"Appliance1\", \"Appliance2\", \"Appliance3\", \"Appliance4\", \"Appliance5\", \"Appliance6\", \"Appliance7\", \"Appliance8\", \"Appliance9\"]\n",
    "\n",
    "step_size = 1\n",
    "for ind, f in enumerate(all_files_new):\n",
    "  house_nb = int(f[f.index('House_')+6:f.index('.csv')])\n",
    "  house_nbs.append(house_nb)\n",
    "\n",
    "  current_df = pd.read_csv(f, usecols=cols__)\n",
    "  current_df.columns = [\"Unix\", \"Aggregate\"] + real_col_names[str(house_nb)]\n",
    "  current_df = hourly_data(current_df)\n",
    "\n",
    "  print('dataframe size is ', len(current_df))\n",
    "  df_list_new.append(current_df.iloc[::step_size])\n",
    "  del current_df\n",
    "\n",
    "#df_list_new = [df_list_new[i] for i in house_nbs]\n",
    "\n",
    "#df_new = pd.concat(df_list_new,ignore_index=True)"
   ]
  },
  {
   "cell_type": "code",
   "execution_count": null,
   "metadata": {
    "colab": {
     "base_uri": "https://localhost:8080/"
    },
    "id": "FFn5A3DTPf96",
    "outputId": "08dbec69-2e59-41bb-8b50-ef7060fc1527"
   },
   "outputs": [
    {
     "name": "stdout",
     "output_type": "stream",
     "text": [
      "0 ['Unix', 'Aggregate', 'fridge', 'washing_drying', 'computer_tv', 'heating']\n",
      "1 ['Unix', 'Aggregate', 'fridge', 'washing_drying', 'computer_tv', 'heating']\n",
      "2 ['Unix', 'Aggregate', 'fridge', 'washing_drying', 'computer_tv', 'heating']\n",
      "3 ['Unix', 'Aggregate', 'fridge', 'washing_drying', 'computer_tv', 'heating']\n",
      "4 ['Unix', 'Aggregate', 'fridge', 'washing_drying', 'computer_tv', 'heating']\n",
      "5 ['Unix', 'Aggregate', 'fridge', 'washing_drying', 'computer_tv', 'heating']\n",
      "6 ['Unix', 'Aggregate', 'fridge', 'computer_tv', 'heating']\n",
      "7 ['Unix', 'Aggregate', 'fridge', 'washing_drying', 'computer_tv', 'heating']\n",
      "8 ['Unix', 'Aggregate', 'washing_drying', 'computer_tv', 'heating']\n",
      "9 ['Unix', 'Aggregate', 'fridge', 'washing_drying', 'computer_tv', 'heating']\n",
      "10 ['Unix', 'Aggregate', 'fridge', 'washing_drying', 'computer_tv', 'heating']\n",
      "11 ['Unix', 'Aggregate', 'fridge', 'washing_drying', 'computer_tv', 'heating']\n",
      "12 ['Unix', 'Aggregate', 'fridge', 'washing_drying', 'computer_tv', 'heating']\n",
      "13 ['Unix', 'Aggregate', 'fridge', 'washing_drying', 'computer_tv', 'heating']\n",
      "14 ['Unix', 'Aggregate', 'fridge', 'washing_drying', 'computer_tv', 'heating']\n",
      "15 ['Unix', 'Aggregate', 'fridge', 'washing_drying', 'computer_tv', 'heating']\n",
      "16 ['Unix', 'Aggregate', 'fridge', 'washing_drying', 'computer_tv', 'heating']\n",
      "17 ['Unix', 'Aggregate', 'fridge', 'washing_drying', 'computer_tv', 'heating']\n",
      "18 ['Unix', 'Aggregate', 'fridge', 'washing_drying', 'computer_tv', 'heating']\n",
      "19 ['Unix', 'Aggregate', 'fridge', 'washing_drying', 'computer_tv', 'heating']\n",
      "Remove houses with less categories\n"
     ]
    }
   ],
   "source": [
    "for i, h in enumerate(df_list_new):\n",
    "  print(i, create_category_cols(h, categories_refit, remove_other=True).columns.tolist())\n",
    "\n",
    "print('\\n Remove houses with less categories, the 6th and 8th house')"
   ]
  },
  {
   "cell_type": "code",
   "execution_count": null,
   "metadata": {
    "id": "Leevjm9JLpdL"
   },
   "outputs": [],
   "source": [
    "df_list_new = [create_category_cols(h, categories_refit, remove_other=True) for h in df_list_new]\n",
    "df_list_new = [h for i, h in enumerate(df_list_new) if i not in ([6, 8])]\n",
    "\n",
    "house_nbs = [h for i, h in enumerate(house_nbs) if i not in ([6, 8])]"
   ]
  },
  {
   "cell_type": "code",
   "execution_count": null,
   "metadata": {
    "colab": {
     "base_uri": "https://localhost:8080/"
    },
    "id": "3IYDcIAjO_0g",
    "outputId": "d73ed542-2d17-42d8-ea40-4ed18b537458"
   },
   "outputs": [
    {
     "name": "stdout",
     "output_type": "stream",
     "text": [
      "[(0, (1380135600, 1433239200)), (1, (1381323600, 1436526000)), (2, (1384945200, 1435662000)), (3, (1381485600, 1436259600)), (4, (1401793200, 1435676400)), (5, (1380186000, 1436202000)), (6, (1385640000, 1435528800)), (7, (1387299600, 1436320800)), (8, (1383343200, 1436320800)), (9, (1389348000, 1436320800)), (10, (1383343200, 1431298800)), (11, (1394121600, 1434722400)), (12, (1387299600, 1436378400)), (13, (1394186400, 1432465200)), (14, (1394121600, 1434769200)), (15, (1379455200, 1432800000)), (16, (1395316800, 1435086000)), (17, (1394208000, 1436526000))]\n"
     ]
    }
   ],
   "source": [
    "filt = filter_sort_date(df_list_new, date_col_name='Unix')\n",
    "del df_list_new # to ease on the memory"
   ]
  },
  {
   "cell_type": "code",
   "execution_count": null,
   "metadata": {
    "id": "lgIzBhOCAzcT"
   },
   "outputs": [],
   "source": [
    "tt = [(0, (1395316800, 1435086000)), (1, (1394208000, 1436526000)), (2, (1380135600, 1433239200)), (3, (1381323600, 1436526000)), (4, (1384945200, 1435662000)), (5, (1381485600, 1436259600)), (6, (1401793200, 1435676400))]"
   ]
  },
  {
   "cell_type": "code",
   "execution_count": null,
   "metadata": {
    "id": "i3EeUlhpUVxF"
   },
   "outputs": [],
   "source": [
    "filt = harmonize_timestamps(filt)"
   ]
  },
  {
   "cell_type": "code",
   "execution_count": null,
   "metadata": {
    "colab": {
     "base_uri": "https://localhost:8080/",
     "height": 237
    },
    "id": "MS19CW7WC7x4",
    "outputId": "d1e52c7c-fa47-4f79-b3c1-4b8f1ee5d75e"
   },
   "outputs": [
    {
     "data": {
      "text/html": [
       "\n",
       "  <div id=\"df-8a11dd9e-dcc8-4360-b648-5fda7eff7718\">\n",
       "    <div class=\"colab-df-container\">\n",
       "      <div>\n",
       "<style scoped>\n",
       "    .dataframe tbody tr th:only-of-type {\n",
       "        vertical-align: middle;\n",
       "    }\n",
       "\n",
       "    .dataframe tbody tr th {\n",
       "        vertical-align: top;\n",
       "    }\n",
       "\n",
       "    .dataframe thead th {\n",
       "        text-align: right;\n",
       "    }\n",
       "</style>\n",
       "<table border=\"1\" class=\"dataframe\">\n",
       "  <thead>\n",
       "    <tr style=\"text-align: right;\">\n",
       "      <th></th>\n",
       "      <th>Unix</th>\n",
       "      <th>Aggregate</th>\n",
       "      <th>fridge</th>\n",
       "      <th>washing_drying</th>\n",
       "      <th>computer_tv</th>\n",
       "      <th>heating</th>\n",
       "    </tr>\n",
       "    <tr>\n",
       "      <th>Unix</th>\n",
       "      <th></th>\n",
       "      <th></th>\n",
       "      <th></th>\n",
       "      <th></th>\n",
       "      <th></th>\n",
       "      <th></th>\n",
       "    </tr>\n",
       "  </thead>\n",
       "  <tbody>\n",
       "    <tr>\n",
       "      <th>1401793200</th>\n",
       "      <td>1401793200</td>\n",
       "      <td>4418</td>\n",
       "      <td>193</td>\n",
       "      <td>2128</td>\n",
       "      <td>0</td>\n",
       "      <td>0</td>\n",
       "    </tr>\n",
       "    <tr>\n",
       "      <th>1401796800</th>\n",
       "      <td>1401796800</td>\n",
       "      <td>2446</td>\n",
       "      <td>86</td>\n",
       "      <td>0</td>\n",
       "      <td>143</td>\n",
       "      <td>0</td>\n",
       "    </tr>\n",
       "    <tr>\n",
       "      <th>1401800400</th>\n",
       "      <td>1401800400</td>\n",
       "      <td>590</td>\n",
       "      <td>250</td>\n",
       "      <td>0</td>\n",
       "      <td>143</td>\n",
       "      <td>0</td>\n",
       "    </tr>\n",
       "    <tr>\n",
       "      <th>1401804000</th>\n",
       "      <td>1401804000</td>\n",
       "      <td>346</td>\n",
       "      <td>193</td>\n",
       "      <td>0</td>\n",
       "      <td>0</td>\n",
       "      <td>0</td>\n",
       "    </tr>\n",
       "    <tr>\n",
       "      <th>1401807600</th>\n",
       "      <td>1401807600</td>\n",
       "      <td>213</td>\n",
       "      <td>0</td>\n",
       "      <td>0</td>\n",
       "      <td>0</td>\n",
       "      <td>0</td>\n",
       "    </tr>\n",
       "  </tbody>\n",
       "</table>\n",
       "</div>\n",
       "      <button class=\"colab-df-convert\" onclick=\"convertToInteractive('df-8a11dd9e-dcc8-4360-b648-5fda7eff7718')\"\n",
       "              title=\"Convert this dataframe to an interactive table.\"\n",
       "              style=\"display:none;\">\n",
       "        \n",
       "  <svg xmlns=\"http://www.w3.org/2000/svg\" height=\"24px\"viewBox=\"0 0 24 24\"\n",
       "       width=\"24px\">\n",
       "    <path d=\"M0 0h24v24H0V0z\" fill=\"none\"/>\n",
       "    <path d=\"M18.56 5.44l.94 2.06.94-2.06 2.06-.94-2.06-.94-.94-2.06-.94 2.06-2.06.94zm-11 1L8.5 8.5l.94-2.06 2.06-.94-2.06-.94L8.5 2.5l-.94 2.06-2.06.94zm10 10l.94 2.06.94-2.06 2.06-.94-2.06-.94-.94-2.06-.94 2.06-2.06.94z\"/><path d=\"M17.41 7.96l-1.37-1.37c-.4-.4-.92-.59-1.43-.59-.52 0-1.04.2-1.43.59L10.3 9.45l-7.72 7.72c-.78.78-.78 2.05 0 2.83L4 21.41c.39.39.9.59 1.41.59.51 0 1.02-.2 1.41-.59l7.78-7.78 2.81-2.81c.8-.78.8-2.07 0-2.86zM5.41 20L4 18.59l7.72-7.72 1.47 1.35L5.41 20z\"/>\n",
       "  </svg>\n",
       "      </button>\n",
       "      \n",
       "  <style>\n",
       "    .colab-df-container {\n",
       "      display:flex;\n",
       "      flex-wrap:wrap;\n",
       "      gap: 12px;\n",
       "    }\n",
       "\n",
       "    .colab-df-convert {\n",
       "      background-color: #E8F0FE;\n",
       "      border: none;\n",
       "      border-radius: 50%;\n",
       "      cursor: pointer;\n",
       "      display: none;\n",
       "      fill: #1967D2;\n",
       "      height: 32px;\n",
       "      padding: 0 0 0 0;\n",
       "      width: 32px;\n",
       "    }\n",
       "\n",
       "    .colab-df-convert:hover {\n",
       "      background-color: #E2EBFA;\n",
       "      box-shadow: 0px 1px 2px rgba(60, 64, 67, 0.3), 0px 1px 3px 1px rgba(60, 64, 67, 0.15);\n",
       "      fill: #174EA6;\n",
       "    }\n",
       "\n",
       "    [theme=dark] .colab-df-convert {\n",
       "      background-color: #3B4455;\n",
       "      fill: #D2E3FC;\n",
       "    }\n",
       "\n",
       "    [theme=dark] .colab-df-convert:hover {\n",
       "      background-color: #434B5C;\n",
       "      box-shadow: 0px 1px 3px 1px rgba(0, 0, 0, 0.15);\n",
       "      filter: drop-shadow(0px 1px 2px rgba(0, 0, 0, 0.3));\n",
       "      fill: #FFFFFF;\n",
       "    }\n",
       "  </style>\n",
       "\n",
       "      <script>\n",
       "        const buttonEl =\n",
       "          document.querySelector('#df-8a11dd9e-dcc8-4360-b648-5fda7eff7718 button.colab-df-convert');\n",
       "        buttonEl.style.display =\n",
       "          google.colab.kernel.accessAllowed ? 'block' : 'none';\n",
       "\n",
       "        async function convertToInteractive(key) {\n",
       "          const element = document.querySelector('#df-8a11dd9e-dcc8-4360-b648-5fda7eff7718');\n",
       "          const dataTable =\n",
       "            await google.colab.kernel.invokeFunction('convertToInteractive',\n",
       "                                                     [key], {});\n",
       "          if (!dataTable) return;\n",
       "\n",
       "          const docLinkHtml = 'Like what you see? Visit the ' +\n",
       "            '<a target=\"_blank\" href=https://colab.research.google.com/notebooks/data_table.ipynb>data table notebook</a>'\n",
       "            + ' to learn more about interactive tables.';\n",
       "          element.innerHTML = '';\n",
       "          dataTable['output_type'] = 'display_data';\n",
       "          await google.colab.output.renderOutput(dataTable, element);\n",
       "          const docLink = document.createElement('div');\n",
       "          docLink.innerHTML = docLinkHtml;\n",
       "          element.appendChild(docLink);\n",
       "        }\n",
       "      </script>\n",
       "    </div>\n",
       "  </div>\n",
       "  "
      ],
      "text/plain": [
       "                  Unix  Aggregate  fridge  washing_drying  computer_tv  \\\n",
       "Unix                                                                     \n",
       "1401793200  1401793200       4418     193            2128            0   \n",
       "1401796800  1401796800       2446      86               0          143   \n",
       "1401800400  1401800400        590     250               0          143   \n",
       "1401804000  1401804000        346     193               0            0   \n",
       "1401807600  1401807600        213       0               0            0   \n",
       "\n",
       "            heating  \n",
       "Unix                 \n",
       "1401793200        0  \n",
       "1401796800        0  \n",
       "1401800400        0  \n",
       "1401804000        0  \n",
       "1401807600        0  "
      ]
     },
     "execution_count": 68,
     "metadata": {},
     "output_type": "execute_result"
    }
   ],
   "source": [
    "filt[0].head()"
   ]
  },
  {
   "cell_type": "markdown",
   "metadata": {
    "id": "GVCroJGTVVOa"
   },
   "source": [
    "### **Comparisons**"
   ]
  },
  {
   "cell_type": "markdown",
   "metadata": {},
   "source": [
    "**Using clustering directly**"
   ]
  },
  {
   "cell_type": "code",
   "execution_count": null,
   "metadata": {
    "colab": {
     "base_uri": "https://localhost:8080/",
     "height": 299
    },
    "id": "Q6_aqO9-9K9Z",
    "outputId": "2e6941d2-16cd-432e-ed89-5a70e2117831"
   },
   "outputs": [
    {
     "data": {
      "text/html": [
       "\n",
       "  <div id=\"df-5fa90cf4-f80a-4df9-87eb-743a7d0539d7\">\n",
       "    <div class=\"colab-df-container\">\n",
       "      <div>\n",
       "<style scoped>\n",
       "    .dataframe tbody tr th:only-of-type {\n",
       "        vertical-align: middle;\n",
       "    }\n",
       "\n",
       "    .dataframe tbody tr th {\n",
       "        vertical-align: top;\n",
       "    }\n",
       "\n",
       "    .dataframe thead th {\n",
       "        text-align: right;\n",
       "    }\n",
       "</style>\n",
       "<table border=\"1\" class=\"dataframe\">\n",
       "  <thead>\n",
       "    <tr style=\"text-align: right;\">\n",
       "      <th>Unix</th>\n",
       "      <th>1401793200</th>\n",
       "      <th>1401796800</th>\n",
       "      <th>1401800400</th>\n",
       "      <th>1401804000</th>\n",
       "      <th>1401807600</th>\n",
       "      <th>1401811200</th>\n",
       "      <th>1401814800</th>\n",
       "      <th>1401818400</th>\n",
       "      <th>1401822000</th>\n",
       "      <th>1401825600</th>\n",
       "      <th>...</th>\n",
       "      <th>1431266400</th>\n",
       "      <th>1431270000</th>\n",
       "      <th>1431273600</th>\n",
       "      <th>1431277200</th>\n",
       "      <th>1431280800</th>\n",
       "      <th>1431284400</th>\n",
       "      <th>1431288000</th>\n",
       "      <th>1431291600</th>\n",
       "      <th>1431295200</th>\n",
       "      <th>1431298800</th>\n",
       "    </tr>\n",
       "  </thead>\n",
       "  <tbody>\n",
       "    <tr>\n",
       "      <th>0</th>\n",
       "      <td>4418</td>\n",
       "      <td>2446</td>\n",
       "      <td>590</td>\n",
       "      <td>346</td>\n",
       "      <td>213</td>\n",
       "      <td>592</td>\n",
       "      <td>592</td>\n",
       "      <td>592</td>\n",
       "      <td>592</td>\n",
       "      <td>592</td>\n",
       "      <td>...</td>\n",
       "      <td>2594</td>\n",
       "      <td>443</td>\n",
       "      <td>186</td>\n",
       "      <td>478</td>\n",
       "      <td>434</td>\n",
       "      <td>380</td>\n",
       "      <td>505</td>\n",
       "      <td>465</td>\n",
       "      <td>458</td>\n",
       "      <td>402</td>\n",
       "    </tr>\n",
       "    <tr>\n",
       "      <th>1</th>\n",
       "      <td>211</td>\n",
       "      <td>151</td>\n",
       "      <td>223</td>\n",
       "      <td>221</td>\n",
       "      <td>175</td>\n",
       "      <td>149</td>\n",
       "      <td>151</td>\n",
       "      <td>311</td>\n",
       "      <td>287</td>\n",
       "      <td>487</td>\n",
       "      <td>...</td>\n",
       "      <td>274</td>\n",
       "      <td>324</td>\n",
       "      <td>280</td>\n",
       "      <td>285</td>\n",
       "      <td>243</td>\n",
       "      <td>257</td>\n",
       "      <td>182</td>\n",
       "      <td>3424</td>\n",
       "      <td>406</td>\n",
       "      <td>426</td>\n",
       "    </tr>\n",
       "    <tr>\n",
       "      <th>2</th>\n",
       "      <td>1120</td>\n",
       "      <td>367</td>\n",
       "      <td>623</td>\n",
       "      <td>605</td>\n",
       "      <td>479</td>\n",
       "      <td>1030</td>\n",
       "      <td>609</td>\n",
       "      <td>881</td>\n",
       "      <td>537</td>\n",
       "      <td>491</td>\n",
       "      <td>...</td>\n",
       "      <td>2921</td>\n",
       "      <td>663</td>\n",
       "      <td>274</td>\n",
       "      <td>253</td>\n",
       "      <td>261</td>\n",
       "      <td>303</td>\n",
       "      <td>251</td>\n",
       "      <td>3433</td>\n",
       "      <td>2969</td>\n",
       "      <td>277</td>\n",
       "    </tr>\n",
       "    <tr>\n",
       "      <th>3</th>\n",
       "      <td>400</td>\n",
       "      <td>268</td>\n",
       "      <td>516</td>\n",
       "      <td>534</td>\n",
       "      <td>458</td>\n",
       "      <td>404</td>\n",
       "      <td>902</td>\n",
       "      <td>168</td>\n",
       "      <td>551</td>\n",
       "      <td>434</td>\n",
       "      <td>...</td>\n",
       "      <td>164</td>\n",
       "      <td>275</td>\n",
       "      <td>174</td>\n",
       "      <td>267</td>\n",
       "      <td>369</td>\n",
       "      <td>210</td>\n",
       "      <td>402</td>\n",
       "      <td>276</td>\n",
       "      <td>526</td>\n",
       "      <td>275</td>\n",
       "    </tr>\n",
       "    <tr>\n",
       "      <th>4</th>\n",
       "      <td>1777</td>\n",
       "      <td>1351</td>\n",
       "      <td>2302</td>\n",
       "      <td>920</td>\n",
       "      <td>1039</td>\n",
       "      <td>431</td>\n",
       "      <td>1874</td>\n",
       "      <td>149</td>\n",
       "      <td>247</td>\n",
       "      <td>61</td>\n",
       "      <td>...</td>\n",
       "      <td>702</td>\n",
       "      <td>1698</td>\n",
       "      <td>428</td>\n",
       "      <td>245</td>\n",
       "      <td>448</td>\n",
       "      <td>368</td>\n",
       "      <td>137</td>\n",
       "      <td>66</td>\n",
       "      <td>403</td>\n",
       "      <td>358</td>\n",
       "    </tr>\n",
       "  </tbody>\n",
       "</table>\n",
       "<p>5 rows × 5954 columns</p>\n",
       "</div>\n",
       "      <button class=\"colab-df-convert\" onclick=\"convertToInteractive('df-5fa90cf4-f80a-4df9-87eb-743a7d0539d7')\"\n",
       "              title=\"Convert this dataframe to an interactive table.\"\n",
       "              style=\"display:none;\">\n",
       "        \n",
       "  <svg xmlns=\"http://www.w3.org/2000/svg\" height=\"24px\"viewBox=\"0 0 24 24\"\n",
       "       width=\"24px\">\n",
       "    <path d=\"M0 0h24v24H0V0z\" fill=\"none\"/>\n",
       "    <path d=\"M18.56 5.44l.94 2.06.94-2.06 2.06-.94-2.06-.94-.94-2.06-.94 2.06-2.06.94zm-11 1L8.5 8.5l.94-2.06 2.06-.94-2.06-.94L8.5 2.5l-.94 2.06-2.06.94zm10 10l.94 2.06.94-2.06 2.06-.94-2.06-.94-.94-2.06-.94 2.06-2.06.94z\"/><path d=\"M17.41 7.96l-1.37-1.37c-.4-.4-.92-.59-1.43-.59-.52 0-1.04.2-1.43.59L10.3 9.45l-7.72 7.72c-.78.78-.78 2.05 0 2.83L4 21.41c.39.39.9.59 1.41.59.51 0 1.02-.2 1.41-.59l7.78-7.78 2.81-2.81c.8-.78.8-2.07 0-2.86zM5.41 20L4 18.59l7.72-7.72 1.47 1.35L5.41 20z\"/>\n",
       "  </svg>\n",
       "      </button>\n",
       "      \n",
       "  <style>\n",
       "    .colab-df-container {\n",
       "      display:flex;\n",
       "      flex-wrap:wrap;\n",
       "      gap: 12px;\n",
       "    }\n",
       "\n",
       "    .colab-df-convert {\n",
       "      background-color: #E8F0FE;\n",
       "      border: none;\n",
       "      border-radius: 50%;\n",
       "      cursor: pointer;\n",
       "      display: none;\n",
       "      fill: #1967D2;\n",
       "      height: 32px;\n",
       "      padding: 0 0 0 0;\n",
       "      width: 32px;\n",
       "    }\n",
       "\n",
       "    .colab-df-convert:hover {\n",
       "      background-color: #E2EBFA;\n",
       "      box-shadow: 0px 1px 2px rgba(60, 64, 67, 0.3), 0px 1px 3px 1px rgba(60, 64, 67, 0.15);\n",
       "      fill: #174EA6;\n",
       "    }\n",
       "\n",
       "    [theme=dark] .colab-df-convert {\n",
       "      background-color: #3B4455;\n",
       "      fill: #D2E3FC;\n",
       "    }\n",
       "\n",
       "    [theme=dark] .colab-df-convert:hover {\n",
       "      background-color: #434B5C;\n",
       "      box-shadow: 0px 1px 3px 1px rgba(0, 0, 0, 0.15);\n",
       "      filter: drop-shadow(0px 1px 2px rgba(0, 0, 0, 0.3));\n",
       "      fill: #FFFFFF;\n",
       "    }\n",
       "  </style>\n",
       "\n",
       "      <script>\n",
       "        const buttonEl =\n",
       "          document.querySelector('#df-5fa90cf4-f80a-4df9-87eb-743a7d0539d7 button.colab-df-convert');\n",
       "        buttonEl.style.display =\n",
       "          google.colab.kernel.accessAllowed ? 'block' : 'none';\n",
       "\n",
       "        async function convertToInteractive(key) {\n",
       "          const element = document.querySelector('#df-5fa90cf4-f80a-4df9-87eb-743a7d0539d7');\n",
       "          const dataTable =\n",
       "            await google.colab.kernel.invokeFunction('convertToInteractive',\n",
       "                                                     [key], {});\n",
       "          if (!dataTable) return;\n",
       "\n",
       "          const docLinkHtml = 'Like what you see? Visit the ' +\n",
       "            '<a target=\"_blank\" href=https://colab.research.google.com/notebooks/data_table.ipynb>data table notebook</a>'\n",
       "            + ' to learn more about interactive tables.';\n",
       "          element.innerHTML = '';\n",
       "          dataTable['output_type'] = 'display_data';\n",
       "          await google.colab.output.renderOutput(dataTable, element);\n",
       "          const docLink = document.createElement('div');\n",
       "          docLink.innerHTML = docLinkHtml;\n",
       "          element.appendChild(docLink);\n",
       "        }\n",
       "      </script>\n",
       "    </div>\n",
       "  </div>\n",
       "  "
      ],
      "text/plain": [
       "Unix  1401793200  1401796800  1401800400  1401804000  1401807600  1401811200  \\\n",
       "0           4418        2446         590         346         213         592   \n",
       "1            211         151         223         221         175         149   \n",
       "2           1120         367         623         605         479        1030   \n",
       "3            400         268         516         534         458         404   \n",
       "4           1777        1351        2302         920        1039         431   \n",
       "\n",
       "Unix  1401814800  1401818400  1401822000  1401825600  ...  1431266400  \\\n",
       "0            592         592         592         592  ...        2594   \n",
       "1            151         311         287         487  ...         274   \n",
       "2            609         881         537         491  ...        2921   \n",
       "3            902         168         551         434  ...         164   \n",
       "4           1874         149         247          61  ...         702   \n",
       "\n",
       "Unix  1431270000  1431273600  1431277200  1431280800  1431284400  1431288000  \\\n",
       "0            443         186         478         434         380         505   \n",
       "1            324         280         285         243         257         182   \n",
       "2            663         274         253         261         303         251   \n",
       "3            275         174         267         369         210         402   \n",
       "4           1698         428         245         448         368         137   \n",
       "\n",
       "Unix  1431291600  1431295200  1431298800  \n",
       "0            465         458         402  \n",
       "1           3424         406         426  \n",
       "2           3433        2969         277  \n",
       "3            276         526         275  \n",
       "4             66         403         358  \n",
       "\n",
       "[5 rows x 5954 columns]"
      ]
     },
     "execution_count": 70,
     "metadata": {},
     "output_type": "execute_result"
    }
   ],
   "source": [
    "to_comp = pd.concat([x['Aggregate'] for x in filt], axis=1, ignore_index=True).dropna().T\n",
    "to_comp.head()"
   ]
  },
  {
   "cell_type": "code",
   "execution_count": null,
   "metadata": {
    "colab": {
     "base_uri": "https://localhost:8080/"
    },
    "id": "v6gD6AbZBoqt",
    "outputId": "56e30030-e6ae-41f2-cd74-9ceb725ce7ea"
   },
   "outputs": [
    {
     "name": "stdout",
     "output_type": "stream",
     "text": [
      "K-means [0 0 0 0 0 0 0 0 0 0 1 0 0 0 0 0 0 0]\n"
     ]
    },
    {
     "name": "stderr",
     "output_type": "stream",
     "text": [
      "/usr/local/lib/python3.9/dist-packages/sklearn/cluster/_kmeans.py:870: FutureWarning: The default value of `n_init` will change from 10 to 'auto' in 1.4. Set the value of `n_init` explicitly to suppress the warning\n",
      "  warnings.warn(\n"
     ]
    }
   ],
   "source": [
    "model = KMeans(n_clusters=2)\n",
    "model.fit(to_comp)\n",
    "yhat = model.predict(to_comp)\n",
    "\n",
    "clusters = np.unique(yhat)\n",
    "print('K-means', yhat)"
   ]
  },
  {
   "cell_type": "markdown",
   "metadata": {
    "id": "CteIB_1u012x"
   },
   "source": [
    "**Overall comparison using mean**"
   ]
  },
  {
   "cell_type": "code",
   "execution_count": null,
   "metadata": {
    "id": "d4BFh5PEqg2U"
   },
   "outputs": [],
   "source": [
    "means = [d.mean() for d in filt]"
   ]
  },
  {
   "cell_type": "code",
   "execution_count": null,
   "metadata": {
    "id": "X1VNUyrEJBoL"
   },
   "outputs": [],
   "source": [
    "means"
   ]
  },
  {
   "cell_type": "code",
   "execution_count": null,
   "metadata": {
    "id": "XYd81qFR2KaF"
   },
   "outputs": [],
   "source": [
    "fig, ax = plt.subplots(nrows=(len(filt[0].columns[2:])//3)+1, ncols=3, figsize=(12, 10))\n",
    "fig.tight_layout()\n",
    "\n",
    "reg_df = []\n",
    "for i, col in enumerate(filt[0].columns[1:]):\n",
    "  values_to_comp = [d.loc[col] for d in means]\n",
    "  reg_df.append(values_to_comp)\n",
    "  ax[i//3, i%3].scatter(range(len(means)), values_to_comp)\n",
    "  ax[i//3, i%3].set_title(col)\n",
    "\n",
    "  for label, x, y in zip(['house_'+str(x) for x in range(len(means))], range(len(means)), values_to_comp):\n",
    "    ax[i//3, i%3].annotate(label,xy=(x, y), xytext=(-20, 20),\n",
    "        textcoords='offset points', ha='left', va='bottom',\n",
    "        bbox=dict(boxstyle='round,pad=0.5', fc='yellow', alpha=0.5),\n",
    "        arrowprops=dict(arrowstyle = '->', connectionstyle='arc3,rad=0'))"
   ]
  },
  {
   "cell_type": "code",
   "execution_count": null,
   "metadata": {
    "id": "bp4zkKQY5iVb"
   },
   "outputs": [],
   "source": [
    "pd.DataFrame(reg_df).T"
   ]
  },
  {
   "cell_type": "markdown",
   "metadata": {
    "id": "IQwP36I8cvdk"
   },
   "source": [
    "**Cluster using overall consumption (no temporal patterns) and all features**"
   ]
  },
  {
   "cell_type": "code",
   "execution_count": null,
   "metadata": {
    "colab": {
     "base_uri": "https://localhost:8080/"
    },
    "id": "m7aDw9W_5fXr",
    "outputId": "b3c86221-f1bf-44eb-8739-77b7a6da7bf9"
   },
   "outputs": [
    {
     "name": "stdout",
     "output_type": "stream",
     "text": [
      "K-means [0 1 0 1 1 0 1 1 0 0 0 1 0 1 1 1 1 0]\n"
     ]
    },
    {
     "name": "stderr",
     "output_type": "stream",
     "text": [
      "/usr/local/lib/python3.9/dist-packages/sklearn/cluster/_kmeans.py:870: FutureWarning: The default value of `n_init` will change from 10 to 'auto' in 1.4. Set the value of `n_init` explicitly to suppress the warning\n",
      "  warnings.warn(\n"
     ]
    }
   ],
   "source": [
    "model = KMeans(n_clusters=2)\n",
    "model.fit(pd.DataFrame(reg_df).T)\n",
    "yhat_kmeans = model.predict(pd.DataFrame(reg_df).T)\n",
    "\n",
    "clusters = np.unique(yhat_kmeans)\n",
    "print('K-means', yhat_kmeans)"
   ]
  },
  {
   "cell_type": "markdown",
   "metadata": {
    "id": "wxEYT9xvJNLO"
   },
   "source": [
    "**Cluster using overall consumption|occupancy|owned appliances** \n",
    "\n",
    "\n",
    "This gave the same result as using **overall consumption** only."
   ]
  },
  {
   "cell_type": "code",
   "execution_count": null,
   "metadata": {
    "id": "-VCmFBlrJllg"
   },
   "outputs": [],
   "source": [
    "advanced_df = pd.concat([pd.DataFrame(reg_df).T, pd.DataFrame({'occupancy': [2, 4, 2, 2, 4, 2, 4, 2, 2, 4, 1, 1, 6, 3, 2, 4, 2, 4], 'owned_appliances': [35, 15, 27, 33, 44, 49, 25, 35, 24, 31, 25, 19, 48, 22, 34, 26, 39, 23]})], axis=1)"
   ]
  },
  {
   "cell_type": "code",
   "execution_count": null,
   "metadata": {
    "colab": {
     "base_uri": "https://localhost:8080/"
    },
    "id": "ecshYzitJJcs",
    "outputId": "525c4384-7543-4adc-a942-084e0f48b491"
   },
   "outputs": [
    {
     "name": "stdout",
     "output_type": "stream",
     "text": [
      "advanced_K-means [1 0 1 0 0 1 0 0 1 1 1 0 1 0 0 0 0 1]\n"
     ]
    },
    {
     "name": "stderr",
     "output_type": "stream",
     "text": [
      "/usr/local/lib/python3.9/dist-packages/sklearn/cluster/_kmeans.py:870: FutureWarning: The default value of `n_init` will change from 10 to 'auto' in 1.4. Set the value of `n_init` explicitly to suppress the warning\n",
      "  warnings.warn(\n"
     ]
    }
   ],
   "source": [
    "advanced_model = KMeans(n_clusters=2)\n",
    "advanced_model.fit(advanced_df.iloc[:,[0,-1,-2]].values)\n",
    "advanced_yhat_kmeans = advanced_model.predict(advanced_df.iloc[:,[0,-1,-2]].values)\n",
    "\n",
    "clusters = np.unique(advanced_yhat_kmeans)\n",
    "print('advanced_K-means', advanced_yhat_kmeans)"
   ]
  },
  {
   "cell_type": "markdown",
   "metadata": {
    "id": "9U20R7PtDwKe"
   },
   "source": [
    "## **Package new data as usable data**"
   ]
  },
  {
   "cell_type": "code",
   "execution_count": null,
   "metadata": {
    "colab": {
     "base_uri": "https://localhost:8080/",
     "height": 54
    },
    "id": "8RLLnnfhDwQs",
    "outputId": "05b72f65-a134-4cad-9d25-f92f084184fb"
   },
   "outputs": [
    {
     "data": {
      "application/vnd.google.colaboratory.intrinsic+json": {
       "type": "string"
      },
      "text/plain": [
       "\"\\ntrain is a list of weekly data (here maybe not weekly) je ne sais pas, I'll start with chunks\\ntrain[week] = {\\n    'X': {appliance_category: appliance_df_for_week}\\n    'X_bar': x_bar_df_for_week\\n}\\nappliance_df_for_week: \\n    - each row has the hourly consumption for the appliance_category (first reading or sum)\\n    - each column corresponds to a house\\n\\nx_bar_df_for_week:\\n    - each row has the aggregate hourly consumption\\n    - each column corresponds to a house\\n\""
      ]
     },
     "execution_count": 35,
     "metadata": {},
     "output_type": "execute_result"
    }
   ],
   "source": [
    "# Output data format \n",
    "\"\"\"\n",
    "train is a list of weekly data (here maybe not weekly) je ne sais pas, I'll start with chunks\n",
    "train[week] = {\n",
    "    'X': {appliance_category: appliance_df_for_week}\n",
    "    'X_bar': x_bar_df_for_week\n",
    "}\n",
    "appliance_df_for_week: \n",
    "    - each row has the hourly consumption for the appliance_category (first reading or sum)\n",
    "    - each column corresponds to a house\n",
    "\n",
    "x_bar_df_for_week:\n",
    "    - each row has the aggregate hourly consumption\n",
    "    - each column corresponds to a house\n",
    "\"\"\""
   ]
  },
  {
   "cell_type": "code",
   "execution_count": null,
   "metadata": {
    "colab": {
     "base_uri": "https://localhost:8080/"
    },
    "id": "ADGB3R1-EQDu",
    "outputId": "deb25c6e-9287-4c30-d2c6-660783d37279"
   },
   "outputs": [
    {
     "data": {
      "text/plain": [
       "array([1, 0, 0, 1, 0, 1, 1, 0, 1, 1, 0, 0, 0, 1, 0, 1, 1, 1], dtype=int32)"
      ]
     },
     "execution_count": 36,
     "metadata": {},
     "output_type": "execute_result"
    }
   ],
   "source": [
    "yhat_kmeans"
   ]
  },
  {
   "cell_type": "code",
   "execution_count": null,
   "metadata": {
    "id": "IbybFzE3ETHM"
   },
   "outputs": [],
   "source": [
    "source_ind, target_ind = np.where(yhat_kmeans==0)[0], np.where(yhat_kmeans==1)[0]"
   ]
  },
  {
   "cell_type": "code",
   "execution_count": null,
   "metadata": {
    "colab": {
     "base_uri": "https://localhost:8080/"
    },
    "id": "KIYQY8e5FLSB",
    "outputId": "e6db3156-a961-4cee-9657-5c9e1b839b59"
   },
   "outputs": [
    {
     "data": {
      "text/plain": [
       "array([ 0,  3,  5,  6,  8,  9, 13, 15, 16, 17])"
      ]
     },
     "execution_count": 38,
     "metadata": {},
     "output_type": "execute_result"
    }
   ],
   "source": [
    "source_ind, target_ind"
   ]
  },
  {
   "cell_type": "code",
   "execution_count": null,
   "metadata": {
    "colab": {
     "base_uri": "https://localhost:8080/"
    },
    "id": "2KmcBQJVE1JA",
    "outputId": "d37bdcc6-6a73-45c7-cac1-ef34c9dca9ea"
   },
   "outputs": [
    {
     "data": {
      "text/plain": [
       "array([ 9, 16, 13,  3,  8])"
      ]
     },
     "execution_count": 41,
     "metadata": {},
     "output_type": "execute_result"
    }
   ],
   "source": [
    "TEST_SIZE = int(len(target_ind)*0.5)\n",
    "np.random.choice(target_ind, TEST_SIZE, replace=False)"
   ]
  },
  {
   "cell_type": "code",
   "execution_count": null,
   "metadata": {
    "id": "qHtLmaG0Ea1a"
   },
   "outputs": [],
   "source": [
    "# train test split\n",
    "\n",
    "test_prop = 0.5\n",
    "\n",
    "TEST_SIZE = int(len(target_ind)*0.5)\n",
    "\n",
    "train_ind = list(source_ind) + list(np.random.choice(target_ind, TEST_SIZE, replace=False))\n",
    "target_starts_at = len(list(source_ind))\n",
    "\n",
    "test_ind = [ind for ind in target_ind if not ind in train_ind]\n",
    "\n",
    "train_houses = [house for i, house in enumerate(filt) if i in train_ind]\n",
    "test_houses = [house for i, house in enumerate(filt) if i in test_ind]"
   ]
  },
  {
   "cell_type": "code",
   "execution_count": null,
   "metadata": {
    "colab": {
     "base_uri": "https://localhost:8080/",
     "height": 237
    },
    "id": "sTTTlug1DwTC",
    "outputId": "e017d72c-ad1b-4f32-8137-3f0eb9e8b1c4"
   },
   "outputs": [
    {
     "data": {
      "text/html": [
       "\n",
       "  <div id=\"df-2e36b486-1ec2-4f01-9ebe-6e4720a3fa8d\">\n",
       "    <div class=\"colab-df-container\">\n",
       "      <div>\n",
       "<style scoped>\n",
       "    .dataframe tbody tr th:only-of-type {\n",
       "        vertical-align: middle;\n",
       "    }\n",
       "\n",
       "    .dataframe tbody tr th {\n",
       "        vertical-align: top;\n",
       "    }\n",
       "\n",
       "    .dataframe thead th {\n",
       "        text-align: right;\n",
       "    }\n",
       "</style>\n",
       "<table border=\"1\" class=\"dataframe\">\n",
       "  <thead>\n",
       "    <tr style=\"text-align: right;\">\n",
       "      <th></th>\n",
       "      <th>Unix</th>\n",
       "      <th>Aggregate</th>\n",
       "      <th>fridge</th>\n",
       "      <th>washing_drying</th>\n",
       "      <th>computer_tv</th>\n",
       "      <th>heating</th>\n",
       "    </tr>\n",
       "    <tr>\n",
       "      <th>Unix</th>\n",
       "      <th></th>\n",
       "      <th></th>\n",
       "      <th></th>\n",
       "      <th></th>\n",
       "      <th></th>\n",
       "      <th></th>\n",
       "    </tr>\n",
       "  </thead>\n",
       "  <tbody>\n",
       "    <tr>\n",
       "      <th>1401793200</th>\n",
       "      <td>1401793200</td>\n",
       "      <td>365</td>\n",
       "      <td>196</td>\n",
       "      <td>0</td>\n",
       "      <td>4</td>\n",
       "      <td>2</td>\n",
       "    </tr>\n",
       "    <tr>\n",
       "      <th>1401796800</th>\n",
       "      <td>1401796800</td>\n",
       "      <td>219</td>\n",
       "      <td>116</td>\n",
       "      <td>0</td>\n",
       "      <td>4</td>\n",
       "      <td>2</td>\n",
       "    </tr>\n",
       "    <tr>\n",
       "      <th>1401800400</th>\n",
       "      <td>1401800400</td>\n",
       "      <td>206</td>\n",
       "      <td>85</td>\n",
       "      <td>0</td>\n",
       "      <td>82</td>\n",
       "      <td>2</td>\n",
       "    </tr>\n",
       "    <tr>\n",
       "      <th>1401804000</th>\n",
       "      <td>1401804000</td>\n",
       "      <td>261</td>\n",
       "      <td>109</td>\n",
       "      <td>0</td>\n",
       "      <td>4</td>\n",
       "      <td>2</td>\n",
       "    </tr>\n",
       "    <tr>\n",
       "      <th>1401807600</th>\n",
       "      <td>1401807600</td>\n",
       "      <td>230</td>\n",
       "      <td>125</td>\n",
       "      <td>0</td>\n",
       "      <td>4</td>\n",
       "      <td>2</td>\n",
       "    </tr>\n",
       "  </tbody>\n",
       "</table>\n",
       "</div>\n",
       "      <button class=\"colab-df-convert\" onclick=\"convertToInteractive('df-2e36b486-1ec2-4f01-9ebe-6e4720a3fa8d')\"\n",
       "              title=\"Convert this dataframe to an interactive table.\"\n",
       "              style=\"display:none;\">\n",
       "        \n",
       "  <svg xmlns=\"http://www.w3.org/2000/svg\" height=\"24px\"viewBox=\"0 0 24 24\"\n",
       "       width=\"24px\">\n",
       "    <path d=\"M0 0h24v24H0V0z\" fill=\"none\"/>\n",
       "    <path d=\"M18.56 5.44l.94 2.06.94-2.06 2.06-.94-2.06-.94-.94-2.06-.94 2.06-2.06.94zm-11 1L8.5 8.5l.94-2.06 2.06-.94-2.06-.94L8.5 2.5l-.94 2.06-2.06.94zm10 10l.94 2.06.94-2.06 2.06-.94-2.06-.94-.94-2.06-.94 2.06-2.06.94z\"/><path d=\"M17.41 7.96l-1.37-1.37c-.4-.4-.92-.59-1.43-.59-.52 0-1.04.2-1.43.59L10.3 9.45l-7.72 7.72c-.78.78-.78 2.05 0 2.83L4 21.41c.39.39.9.59 1.41.59.51 0 1.02-.2 1.41-.59l7.78-7.78 2.81-2.81c.8-.78.8-2.07 0-2.86zM5.41 20L4 18.59l7.72-7.72 1.47 1.35L5.41 20z\"/>\n",
       "  </svg>\n",
       "      </button>\n",
       "      \n",
       "  <style>\n",
       "    .colab-df-container {\n",
       "      display:flex;\n",
       "      flex-wrap:wrap;\n",
       "      gap: 12px;\n",
       "    }\n",
       "\n",
       "    .colab-df-convert {\n",
       "      background-color: #E8F0FE;\n",
       "      border: none;\n",
       "      border-radius: 50%;\n",
       "      cursor: pointer;\n",
       "      display: none;\n",
       "      fill: #1967D2;\n",
       "      height: 32px;\n",
       "      padding: 0 0 0 0;\n",
       "      width: 32px;\n",
       "    }\n",
       "\n",
       "    .colab-df-convert:hover {\n",
       "      background-color: #E2EBFA;\n",
       "      box-shadow: 0px 1px 2px rgba(60, 64, 67, 0.3), 0px 1px 3px 1px rgba(60, 64, 67, 0.15);\n",
       "      fill: #174EA6;\n",
       "    }\n",
       "\n",
       "    [theme=dark] .colab-df-convert {\n",
       "      background-color: #3B4455;\n",
       "      fill: #D2E3FC;\n",
       "    }\n",
       "\n",
       "    [theme=dark] .colab-df-convert:hover {\n",
       "      background-color: #434B5C;\n",
       "      box-shadow: 0px 1px 3px 1px rgba(0, 0, 0, 0.15);\n",
       "      filter: drop-shadow(0px 1px 2px rgba(0, 0, 0, 0.3));\n",
       "      fill: #FFFFFF;\n",
       "    }\n",
       "  </style>\n",
       "\n",
       "      <script>\n",
       "        const buttonEl =\n",
       "          document.querySelector('#df-2e36b486-1ec2-4f01-9ebe-6e4720a3fa8d button.colab-df-convert');\n",
       "        buttonEl.style.display =\n",
       "          google.colab.kernel.accessAllowed ? 'block' : 'none';\n",
       "\n",
       "        async function convertToInteractive(key) {\n",
       "          const element = document.querySelector('#df-2e36b486-1ec2-4f01-9ebe-6e4720a3fa8d');\n",
       "          const dataTable =\n",
       "            await google.colab.kernel.invokeFunction('convertToInteractive',\n",
       "                                                     [key], {});\n",
       "          if (!dataTable) return;\n",
       "\n",
       "          const docLinkHtml = 'Like what you see? Visit the ' +\n",
       "            '<a target=\"_blank\" href=https://colab.research.google.com/notebooks/data_table.ipynb>data table notebook</a>'\n",
       "            + ' to learn more about interactive tables.';\n",
       "          element.innerHTML = '';\n",
       "          dataTable['output_type'] = 'display_data';\n",
       "          await google.colab.output.renderOutput(dataTable, element);\n",
       "          const docLink = document.createElement('div');\n",
       "          docLink.innerHTML = docLinkHtml;\n",
       "          element.appendChild(docLink);\n",
       "        }\n",
       "      </script>\n",
       "    </div>\n",
       "  </div>\n",
       "  "
      ],
      "text/plain": [
       "                  Unix  Aggregate  fridge  washing_drying  computer_tv  \\\n",
       "Unix                                                                     \n",
       "1401793200  1401793200        365     196               0            4   \n",
       "1401796800  1401796800        219     116               0            4   \n",
       "1401800400  1401800400        206      85               0           82   \n",
       "1401804000  1401804000        261     109               0            4   \n",
       "1401807600  1401807600        230     125               0            4   \n",
       "\n",
       "            heating  \n",
       "Unix                 \n",
       "1401793200        2  \n",
       "1401796800        2  \n",
       "1401800400        2  \n",
       "1401804000        2  \n",
       "1401807600        2  "
      ]
     },
     "execution_count": 55,
     "metadata": {},
     "output_type": "execute_result"
    }
   ],
   "source": [
    "filt[0].head()"
   ]
  },
  {
   "cell_type": "code",
   "execution_count": null,
   "metadata": {
    "colab": {
     "base_uri": "https://localhost:8080/"
    },
    "id": "HB9a0ho9Ifdk",
    "outputId": "9bbc6bd9-5098-45ec-e198-6e9edad66bf3"
   },
   "outputs": [
    {
     "data": {
      "text/plain": [
       "8"
      ]
     },
     "execution_count": 56,
     "metadata": {},
     "output_type": "execute_result"
    }
   ],
   "source": [
    "target_starts_at"
   ]
  },
  {
   "cell_type": "code",
   "execution_count": null,
   "metadata": {
    "id": "iWnqd1ixDwVQ"
   },
   "outputs": [],
   "source": [
    "def per_appliance_data(df_list, appliance, inds, target_starts_at=None):\n",
    "  per_app_data = [x[appliance] for x in df_list]\n",
    "\n",
    "  if not target_starts_at:\n",
    "    cols = ['house_'+str(house_nbs[i]) for i in inds]\n",
    "  else:\n",
    "    source_cols = ['house_'+str(house_nbs[i]) for i in train_ind[:target_starts_at]]\n",
    "    target_cols = ['house_'+str(house_nbs[i])+'_target' for i in train_ind[target_starts_at:]]\n",
    "    cols = source_cols + target_cols\n",
    "\n",
    "  per_appliance_df = pd.concat(per_app_data, axis=1)\n",
    "  per_appliance_df.columns = cols\n",
    "  return per_appliance_df"
   ]
  },
  {
   "cell_type": "code",
   "execution_count": null,
   "metadata": {
    "id": "YbKE-9fcMsQc"
   },
   "outputs": [],
   "source": [
    "CHUNK_SIZE = 24 * 7 # roughly weekly but not quite...\n",
    "def chunk_data(df, chunk_size=CHUNK_SIZE):\n",
    "  chunk_list = []\n",
    "  length = len(df)\n",
    "  current_ind = 0\n",
    "  while current_ind < length:\n",
    "    chunk_list.append(df.iloc[current_ind: current_ind + chunk_size])\n",
    "    current_ind += chunk_size\n",
    "  return chunk_list"
   ]
  },
  {
   "cell_type": "code",
   "execution_count": null,
   "metadata": {
    "id": "fdmVA-xZAV3A"
   },
   "outputs": [],
   "source": [
    "test_houses"
   ]
  },
  {
   "cell_type": "code",
   "execution_count": null,
   "metadata": {
    "id": "fV0ZnntvPBBr"
   },
   "outputs": [],
   "source": [
    "chunked_train = [chunk_data(house) for house in train_houses]\n",
    "chunked_train = list(map(list, zip(*chunked_train)))\n",
    "\n",
    "chunked_test = [chunk_data(house) for house in test_houses]\n",
    "chunked_test = list(map(list, zip(*chunked_test))) #transpose so that the 1st dim is chunks, the 2nd dim is houses\n"
   ]
  },
  {
   "cell_type": "code",
   "execution_count": null,
   "metadata": {
    "id": "iI69LPqZKBME"
   },
   "outputs": [],
   "source": [
    "cols_to_use = ['Appliance1', 'Appliance2', 'Appliance3', 'Appliance4', 'Appliance5', 'Appliance6', 'Appliance7', 'Appliance8', 'Appliance9']\n",
    "new_cols_to_use = ['fridge', 'washing_drying', 'computer_tv', 'heating'] #remove 'Unix', 'Aggregate', \n",
    "agg_col = 'Aggregate'"
   ]
  },
  {
   "cell_type": "code",
   "execution_count": null,
   "metadata": {
    "id": "7ke_AiDBOGot"
   },
   "outputs": [],
   "source": [
    "def create_final_data(chunk_list, ind, cols_to_use, target_starts_at=None):\n",
    "  final_list = []\n",
    "  for chunk in range(len(chunk_list)):\n",
    "    final_list.append({\n",
    "        'X': {k: per_appliance_data(chunk_list[chunk], k, ind, target_starts_at) for k in cols_to_use},\n",
    "        'X_bar': per_appliance_data(chunk_list[chunk], agg_col, ind, target_starts_at)\n",
    "    })\n",
    "  return final_list\n"
   ]
  },
  {
   "cell_type": "code",
   "execution_count": 2,
   "metadata": {
    "colab": {
     "base_uri": "https://localhost:8080/",
     "height": 362
    },
    "id": "BZo2Ye5pQwbd",
    "outputId": "19b1c6b7-069a-4115-c426-8b984fac1650"
   },
   "outputs": [],
   "source": [
    "final_train_data = create_final_data(chunked_train, train_ind, new_cols_to_use, target_starts_at)\n",
    "final_test_data = create_final_data(chunked_test, test_ind, new_cols_to_use)"
   ]
  },
  {
   "cell_type": "code",
   "execution_count": null,
   "metadata": {
    "id": "rirOiboWDwXe"
   },
   "outputs": [],
   "source": [
    "with open('/content/drive/MyDrive/refit_data_by_category.pk', 'wb') as output_file:\n",
    "  pickle.dump({\n",
    "      'train': final_train_data,\n",
    "      'test': final_test_data\n",
    "  }, output_file)"
   ]
  },
  {
   "cell_type": "code",
   "execution_count": null,
   "metadata": {
    "id": "xwRC2XTuvcVL"
   },
   "outputs": [],
   "source": []
  }
 ],
 "metadata": {
  "colab": {
   "collapsed_sections": [
    "lJTlamxMBFmw",
    "gB9rYmMBB2nk"
   ],
   "provenance": []
  },
  "kernelspec": {
   "display_name": "Python 3 (ipykernel)",
   "language": "python",
   "name": "python3"
  },
  "language_info": {
   "codemirror_mode": {
    "name": "ipython",
    "version": 3
   },
   "file_extension": ".py",
   "mimetype": "text/x-python",
   "name": "python",
   "nbconvert_exporter": "python",
   "pygments_lexer": "ipython3",
   "version": "3.11.2"
  }
 },
 "nbformat": 4,
 "nbformat_minor": 1
}
